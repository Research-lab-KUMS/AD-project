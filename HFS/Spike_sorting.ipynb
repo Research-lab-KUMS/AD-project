{
 "cells": [
  {
   "cell_type": "code",
   "execution_count": 10,
   "metadata": {},
   "outputs": [
    {
     "name": "stdout",
     "output_type": "stream",
     "text": [
      "RUNNING SHELL SCRIPT: /var/folders/b9/7_m2371s7kb06rs8rjjwkqj40000gn/T/tmp_shellscriptyaao5m9p/script.sh\n",
      "RUNNING SHELL SCRIPT: /var/folders/b9/7_m2371s7kb06rs8rjjwkqj40000gn/T/tmp_shellscriptow1plv_9/script.sh\n",
      "RUNNING SHELL SCRIPT: /var/folders/b9/7_m2371s7kb06rs8rjjwkqj40000gn/T/tmp_shellscriptfaz6gxum/script.sh\n",
      "RUNNING SHELL SCRIPT: /var/folders/b9/7_m2371s7kb06rs8rjjwkqj40000gn/T/tmp_shellscriptujosm3ht/script.sh\n",
      "RUNNING SHELL SCRIPT: /var/folders/b9/7_m2371s7kb06rs8rjjwkqj40000gn/T/tmp_shellscriptmkojedlr/script.sh\n",
      "RUNNING SHELL SCRIPT: /var/folders/b9/7_m2371s7kb06rs8rjjwkqj40000gn/T/tmp_shellscript4xzt2uks/script.sh\n",
      "RUNNING SHELL SCRIPT: /var/folders/b9/7_m2371s7kb06rs8rjjwkqj40000gn/T/tmp_shellscriptcm9e2vxf/script.sh\n",
      "RUNNING SHELL SCRIPT: /var/folders/b9/7_m2371s7kb06rs8rjjwkqj40000gn/T/tmp_shellscript87ho3k07/script.sh\n"
     ]
    },
    {
     "data": {
      "text/plain": [
       "['spykingcircus2', 'tridesclous', 'tridesclous2']"
      ]
     },
     "execution_count": 10,
     "metadata": {},
     "output_type": "execute_result"
    }
   ],
   "source": [
    "import spikeinterface.extractors as se\n",
    "import spikeinterface.widgets as sw\n",
    "import spikeinterface as si\n",
    "import spikeinterface.sorters as ss\n",
    "import matplotlib.pyplot as plt\n",
    "import spikeinterface.preprocessing as spre\n",
    "import mne\n",
    "import numpy as np\n",
    "ss.installed_sorters()"
   ]
  },
  {
   "cell_type": "code",
   "execution_count": 17,
   "metadata": {},
   "outputs": [
    {
     "data": {
      "text/plain": [
       "BinaryRecordingExtractor: 14 channels - 1 segments - 10.0kHz - 1590.570s\n",
       "  file_paths: ['/Volumes/Projects/revision/EDF/d2-b2/d2_b2_WT4.raw']"
      ]
     },
     "execution_count": 17,
     "metadata": {},
     "output_type": "execute_result"
    }
   ],
   "source": [
    "recording = se.BinaryRecordingExtractor('/Volumes/Projects/revision/EDF/d2-b2/d2_b2_WT4.raw',10000,14,'float32')\n",
    "recording"
   ]
  },
  {
   "cell_type": "code",
   "execution_count": 18,
   "metadata": {},
   "outputs": [
    {
     "data": {
      "text/plain": [
       "(<matplotlib.collections.PolyCollection at 0x7f89ec974730>,\n",
       " <matplotlib.collections.PolyCollection at 0x7f89c9290fd0>)"
      ]
     },
     "execution_count": 18,
     "metadata": {},
     "output_type": "execute_result"
    },
    {
     "data": {
      "image/png": "[encoded data removed]",
      "text/plain": [
       "<Figure size 640x480 with 1 Axes>"
      ]
     },
     "metadata": {},
     "output_type": "display_data"
    }
   ],
   "source": [
    "from probeinterface import generate_linear_probe\n",
    "from probeinterface.plotting import plot_probe, plot_probe_group\n",
    "linear_probe = generate_linear_probe(num_elec=14, ypitch=100)\n",
    "linear_probe.set_device_channel_indices(np.arange(14))\n",
    "recording = recording.set_probe(linear_probe)\n",
    "plot_probe(linear_probe, with_channel_index=True)"
   ]
  },
  {
   "cell_type": "code",
   "execution_count": 19,
   "metadata": {},
   "outputs": [
    {
     "name": "stdout",
     "output_type": "stream",
     "text": [
      "{'freq_min': 400.0, 'freq_max': 5000.0, 'detect_sign': -1, 'detect_threshold': 4, 'common_ref_removal': 'True', 'nested_params': None, 'n_jobs': 1, 'total_memory': None, 'chunk_size': None, 'chunk_memory': None, 'chunk_duration': '1s', 'progress_bar': True}\n"
     ]
    }
   ],
   "source": [
    "default_TDC_params = ss.TridesclousSorter.default_params()\n",
    "default_TDC_params['detect_threshold'] = 4\n",
    "default_TDC_params['common_ref_removal'] = 'True'\n",
    "print(default_TDC_params)"
   ]
  },
  {
   "cell_type": "code",
   "execution_count": 20,
   "metadata": {},
   "outputs": [
    {
     "data": {
      "text/plain": [
       "array([0, 1])"
      ]
     },
     "execution_count": 20,
     "metadata": {},
     "output_type": "execute_result"
    }
   ],
   "source": [
    "recording = spre.highpass_filter(recording, freq_min=300)\n",
    "recording = spre.common_reference(recording)\n",
    "sorting_TDC_5 = ss.run_tridesclous(recording=recording)\n",
    "sorting_TDC_5.get_unit_ids()"
   ]
  },
  {
   "cell_type": "code",
   "execution_count": 21,
   "metadata": {},
   "outputs": [
    {
     "name": "stdout",
     "output_type": "stream",
     "text": [
      "Setting 'return_scaled' to False\n",
      "WaveformExtractor: 14 channels - 2 units - 1 segments\n",
      "  before:30 after:40 n_per_units:500\n"
     ]
    }
   ],
   "source": [
    "folder = 'waveforms_mearec'\n",
    "we = si.extract_waveforms(recording, sorting_TDC_5,folder)\n",
    "print(we)"
   ]
  },
  {
   "cell_type": "code",
   "execution_count": 22,
   "metadata": {},
   "outputs": [
    {
     "name": "stdout",
     "output_type": "stream",
     "text": [
      "write_binary_recording with n_jobs = 1 and chunk_size = None\n",
      "Setting 'return_scaled' to False\n",
      "Run:\n",
      "phy template-gui  /Volumes/Projects/revision/WT4_D2/params.py\n"
     ]
    }
   ],
   "source": [
    "from spikeinterface.exporters import export_to_phy\n",
    "output_folder = '/Volumes/Projects/revision/WT4_D2'\n",
    "export_to_phy(we, output_folder)"
   ]
  },
  {
   "cell_type": "code",
   "execution_count": null,
   "metadata": {},
   "outputs": [],
   "source": []
  }
 ],
 "metadata": {
  "kernelspec": {
   "display_name": "Python 3.9.13 ('base')",
   "language": "python",
   "name": "python3"
  },
  "language_info": {
   "codemirror_mode": {
    "name": "ipython",
    "version": 3
   },
   "file_extension": ".py",
   "mimetype": "text/x-python",
   "name": "python",
   "nbconvert_exporter": "python",
   "pygments_lexer": "ipython3",
   "version": "3.9.13"
  },
  "orig_nbformat": 4,
  "vscode": {
   "interpreter": {
    "hash": "7d33472dbd98c2f7564bf88c9685069e5ddcdb7d5bd49f43f6378910fcc5959f"
   }
  }
 },
 "nbformat": 4,
 "nbformat_minor": 2
}
